{
  "nbformat": 4,
  "nbformat_minor": 0,
  "metadata": {
    "colab": {
      "provenance": [],
      "authorship_tag": "ABX9TyPVnr4EWBPDTro+gy8t+JuA",
      "include_colab_link": true
    },
    "kernelspec": {
      "name": "python3",
      "display_name": "Python 3"
    },
    "language_info": {
      "name": "python"
    }
  },
  "cells": [
    {
      "cell_type": "markdown",
      "metadata": {
        "id": "view-in-github",
        "colab_type": "text"
      },
      "source": [
        "<a href=\"https://colab.research.google.com/github/LouisCoates/advent_of_code/blob/main/2024/day_5.ipynb\" target=\"_parent\"><img src=\"https://colab.research.google.com/assets/colab-badge.svg\" alt=\"Open In Colab\"/></a>"
      ]
    },
    {
      "cell_type": "code",
      "execution_count": 1,
      "metadata": {
        "id": "MKWnoXZZdEcT",
        "colab": {
          "base_uri": "https://localhost:8080/"
        },
        "outputId": "8bffeeb3-c263-4a75-b276-9f0fe579b005"
      },
      "outputs": [
        {
          "output_type": "stream",
          "name": "stdout",
          "text": [
            "Data downloaded successfully and saved to data/day5_input.txt\n"
          ]
        }
      ],
      "source": [
        "import requests\n",
        "import os\n",
        "from google.colab import userdata\n",
        "cookie = userdata.get('AOC_SESSION_COOKIE')\n",
        "\n",
        "def download_data(url, session_cookie, output_path):\n",
        "    headers = {\n",
        "        'Cookie': f'session={session_cookie}'\n",
        "    }\n",
        "    response = requests.get(url, headers=headers)\n",
        "    if response.status_code == 200:\n",
        "        with open(output_path, 'w') as file:\n",
        "            file.write(response.text)\n",
        "        print(f\"Data downloaded successfully and saved to {output_path}\")\n",
        "    else:\n",
        "        print(f\"Failed to download data. Status code: {response.status_code}\")\n",
        "\n",
        "if __name__ == \"__main__\":\n",
        "    session_cookie = cookie  # Make sure to set this environment variable\n",
        "    os.makedirs('data', exist_ok=True)\n",
        "    if session_cookie:\n",
        "          url = \"https://adventofcode.com/2024/day/{}/input\".format(5)\n",
        "          output_path = \"data/day{}_input.txt\".format(5)\n",
        "          download_data(url, session_cookie, output_path)\n",
        "    else:\n",
        "        print(\"Session cookie not found. Please set the AOC_SESSION_COOKIE environment variable.\")\n",
        "\n",
        "with open('data/day5_input.txt', 'r') as file:\n",
        "    rules_order = file.read()"
      ]
    },
    {
      "cell_type": "code",
      "source": [
        "rules,order = rules_order.split(\"\\n\\n\")"
      ],
      "metadata": {
        "id": "I4t1vBV1s5U7"
      },
      "execution_count": 2,
      "outputs": []
    },
    {
      "cell_type": "code",
      "source": [
        "rules_clean = [val.split(\"|\") for val in rules.split(\"\\n\")]\n",
        "order_clean = [val.split(\",\") for val in order.split(\"\\n\")]"
      ],
      "metadata": {
        "id": "IdPsDlGFdyDD"
      },
      "execution_count": 13,
      "outputs": []
    },
    {
      "cell_type": "code",
      "source": [
        "def check_rules(queue, rules):\n",
        "  if len(queue) > 1:\n",
        "    for rule in rules:\n",
        "      if rule[0] in queue and rule[1] in queue:\n",
        "        if queue.index(rule[0]) > queue.index(rule[1]):\n",
        "          return 0\n",
        "    return int(queue[int((len(queue)-1)/2)])\n",
        "  else:\n",
        "    return 0\n",
        "\n",
        "correct = sum([check_rules(queue,rules_clean) for queue in order_clean])\n",
        "\n",
        "print(correct)"
      ],
      "metadata": {
        "colab": {
          "base_uri": "https://localhost:8080/"
        },
        "id": "zzkzOVyIt_Cv",
        "outputId": "d282cd28-7fe7-46a0-e738-ef351a8a604b"
      },
      "execution_count": 16,
      "outputs": [
        {
          "output_type": "stream",
          "name": "stdout",
          "text": [
            "5087\n"
          ]
        }
      ]
    },
    {
      "cell_type": "code",
      "source": [
        "rules_clean = [val.split(\"|\") for val in rules.split(\"\\n\")]\n",
        "order_clean = [val.split(\",\") for val in order.split(\"\\n\")]\n",
        "\n",
        "def fix_rules(queue, rules):\n",
        "  if len(queue) > 1:\n",
        "    correct = True\n",
        "    while not all([(queue.index(rule[0]) < queue.index(rule[1])) if all([rule[0] in queue, rule[1] in queue]) else True for rule in rules]):\n",
        "      for rule in rules:\n",
        "        if rule[0] in queue and rule[1] in queue:\n",
        "          if queue.index(rule[0]) > queue.index(rule[1]):\n",
        "            correct = False\n",
        "            index0 = queue.index(rule[0])\n",
        "            index1 = queue.index(rule[1])\n",
        "            queue[index0] = rule[1]\n",
        "            queue[index1] = rule[0]\n",
        "    if correct:\n",
        "      return 0\n",
        "    else:\n",
        "      return int(queue[int((len(queue)-1)/2)])\n",
        "  else:\n",
        "    return 0\n",
        "\n",
        "\n",
        "correct = sum([fix_rules(queue,rules_clean) for queue in order_clean])\n",
        "print(correct)"
      ],
      "metadata": {
        "id": "XX3AKqU7q6Br",
        "colab": {
          "base_uri": "https://localhost:8080/"
        },
        "outputId": "56cc1709-93d2-40af-b925-ae5de877d951"
      },
      "execution_count": 17,
      "outputs": [
        {
          "output_type": "stream",
          "name": "stdout",
          "text": [
            "4971\n"
          ]
        }
      ]
    },
    {
      "cell_type": "code",
      "source": [],
      "metadata": {
        "id": "DuSjy5T_ymDD"
      },
      "execution_count": null,
      "outputs": []
    }
  ]
}