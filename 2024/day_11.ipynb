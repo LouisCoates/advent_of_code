{
  "nbformat": 4,
  "nbformat_minor": 0,
  "metadata": {
    "colab": {
      "provenance": [],
      "authorship_tag": "ABX9TyM9XWJH3Vs8lOhPgqmjPZQk",
      "include_colab_link": true
    },
    "kernelspec": {
      "name": "python3",
      "display_name": "Python 3"
    },
    "language_info": {
      "name": "python"
    }
  },
  "cells": [
    {
      "cell_type": "markdown",
      "metadata": {
        "id": "view-in-github",
        "colab_type": "text"
      },
      "source": [
        "<a href=\"https://colab.research.google.com/github/LouisCoates/advent_of_code/blob/main/2024/day_11.ipynb\" target=\"_parent\"><img src=\"https://colab.research.google.com/assets/colab-badge.svg\" alt=\"Open In Colab\"/></a>"
      ]
    },
    {
      "cell_type": "code",
      "execution_count": 1,
      "metadata": {
        "id": "ARSOOKLay6eW",
        "colab": {
          "base_uri": "https://localhost:8080/"
        },
        "outputId": "9fe7d4ea-bb0e-43f8-fa71-043b88d87558"
      },
      "outputs": [
        {
          "output_type": "stream",
          "name": "stdout",
          "text": [
            "Data downloaded successfully and saved to data/day11_input.txt\n"
          ]
        }
      ],
      "source": [
        "import requests\n",
        "import os\n",
        "from google.colab import userdata\n",
        "cookie = userdata.get('AOC_SESSION_COOKIE')\n",
        "\n",
        "def download_data(url, session_cookie, output_path):\n",
        "    headers = {\n",
        "        'Cookie': f'session={session_cookie}'\n",
        "    }\n",
        "    response = requests.get(url, headers=headers)\n",
        "    if response.status_code == 200:\n",
        "        with open(output_path, 'w') as file:\n",
        "            file.write(response.text)\n",
        "        print(f\"Data downloaded successfully and saved to {output_path}\")\n",
        "    else:\n",
        "        print(f\"Failed to download data. Status code: {response.status_code}\")\n",
        "\n",
        "if __name__ == \"__main__\":\n",
        "    session_cookie = cookie  # Make sure to set this environment variable\n",
        "    os.makedirs('data', exist_ok=True)\n",
        "    if session_cookie:\n",
        "          url = \"https://adventofcode.com/2024/day/{}/input\".format(11)\n",
        "          output_path = \"data/day{}_input.txt\".format(11)\n",
        "          download_data(url, session_cookie, output_path)\n",
        "    else:\n",
        "        print(\"Session cookie not found. Please set the AOC_SESSION_COOKIE environment variable.\")"
      ]
    },
    {
      "cell_type": "code",
      "source": [
        "with open('data/day11_input.txt', 'r') as file:\n",
        "    data_real= file.read().strip()\n",
        "\n",
        "data_real = data_real.split(' ')\n",
        "data_real = [x for x in data_real]\n",
        "\n",
        "data_real_dict = {}\n",
        "for x in data_real:\n",
        "  if x in data_real_dict:\n",
        "    data_real_dict[x]+=1\n",
        "  else:\n",
        "    data_real_dict[x]=1\n",
        "\n",
        "data_test_dict = {'125':1,'17':1}"
      ],
      "metadata": {
        "id": "MMtamUNLzSPc"
      },
      "execution_count": 31,
      "outputs": []
    },
    {
      "cell_type": "code",
      "source": [
        "def stone_change(stones):\n",
        "  new_stones = {}\n",
        "  for stone_val in stones:\n",
        "    if stone_val == '0':\n",
        "      if '1' in new_stones:\n",
        "        new_stones['1']+=stones[stone_val]\n",
        "        continue\n",
        "      else:\n",
        "        new_stones['1']=stones[stone_val]\n",
        "        continue\n",
        "    if len(stone_val)%2 == 0:\n",
        "      for stoney_stone in [str(int(str(stone_val)[:len(str(stone_val))//2])), str(int(str(stone_val)[len(str(stone_val))//2:]))]:\n",
        "        if stoney_stone in new_stones:\n",
        "          new_stones[stoney_stone]+=stones[stone_val]\n",
        "          continue\n",
        "        else:\n",
        "          new_stones[stoney_stone]=stones[stone_val]\n",
        "          continue\n",
        "    else:\n",
        "        if str(int(stone_val)*2024) in new_stones:\n",
        "          new_stones[str(int(stone_val)*2024)]+=stones[stone_val]\n",
        "          continue\n",
        "        else:\n",
        "          new_stones[str(int(stone_val)*2024)]=stones[stone_val]\n",
        "          continue\n",
        "  return new_stones"
      ],
      "metadata": {
        "id": "rlaPm77rzdFQ"
      },
      "execution_count": 25,
      "outputs": []
    },
    {
      "cell_type": "code",
      "source": [
        "stones = data_real_dict\n",
        "\n",
        "for x in range(75):\n",
        "  stones = stone_change(stones)\n",
        "  sum = 0\n",
        "  for i in stones:\n",
        "      sum = sum + stones[i]\n",
        "  if x+1 == 25:\n",
        "    print('Part 1: ',sum)\n",
        "  if x+1 == 75:\n",
        "    print('Part 2: ',sum)"
      ],
      "metadata": {
        "colab": {
          "base_uri": "https://localhost:8080/"
        },
        "id": "aNubeZXO0SgV",
        "outputId": "63b7ceb7-ab44-4e98-d2d7-63910a96e611"
      },
      "execution_count": 36,
      "outputs": [
        {
          "output_type": "stream",
          "name": "stdout",
          "text": [
            "Part 1:  217443\n",
            "Part 2:  257246536026785\n"
          ]
        }
      ]
    }
  ]
}