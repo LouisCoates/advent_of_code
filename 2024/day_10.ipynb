{
  "nbformat": 4,
  "nbformat_minor": 0,
  "metadata": {
    "colab": {
      "provenance": [],
      "authorship_tag": "ABX9TyP0S0WNU0USx6nV+1Wisgn5",
      "include_colab_link": true
    },
    "kernelspec": {
      "name": "python3",
      "display_name": "Python 3"
    },
    "language_info": {
      "name": "python"
    }
  },
  "cells": [
    {
      "cell_type": "markdown",
      "metadata": {
        "id": "view-in-github",
        "colab_type": "text"
      },
      "source": [
        "<a href=\"https://colab.research.google.com/github/LouisCoates/advent_of_code/blob/main/2024/day_10.ipynb\" target=\"_parent\"><img src=\"https://colab.research.google.com/assets/colab-badge.svg\" alt=\"Open In Colab\"/></a>"
      ]
    },
    {
      "cell_type": "code",
      "execution_count": 1,
      "metadata": {
        "colab": {
          "base_uri": "https://localhost:8080/"
        },
        "id": "IzHPqrsSmHK8",
        "outputId": "dbfece43-6529-463e-c460-ceec5430bf70"
      },
      "outputs": [
        {
          "output_type": "stream",
          "name": "stdout",
          "text": [
            "Data downloaded successfully and saved to data/day10_input.txt\n"
          ]
        }
      ],
      "source": [
        "import requests\n",
        "import os\n",
        "from google.colab import userdata\n",
        "cookie = userdata.get('AOC_SESSION_COOKIE')\n",
        "\n",
        "def download_data(url, session_cookie, output_path):\n",
        "    headers = {\n",
        "        'Cookie': f'session={session_cookie}'\n",
        "    }\n",
        "    response = requests.get(url, headers=headers)\n",
        "    if response.status_code == 200:\n",
        "        with open(output_path, 'w') as file:\n",
        "            file.write(response.text)\n",
        "        print(f\"Data downloaded successfully and saved to {output_path}\")\n",
        "    else:\n",
        "        print(f\"Failed to download data. Status code: {response.status_code}\")\n",
        "\n",
        "if __name__ == \"__main__\":\n",
        "    session_cookie = cookie  # Make sure to set this environment variable\n",
        "    os.makedirs('data', exist_ok=True)\n",
        "    if session_cookie:\n",
        "          url = \"https://adventofcode.com/2024/day/{}/input\".format(10)\n",
        "          output_path = \"data/day{}_input.txt\".format(10)\n",
        "          download_data(url, session_cookie, output_path)\n",
        "    else:\n",
        "        print(\"Session cookie not found. Please set the AOC_SESSION_COOKIE environment variable.\")"
      ]
    },
    {
      "cell_type": "code",
      "execution_count": 49,
      "metadata": {
        "id": "hHYy_6W09iMm"
      },
      "outputs": [],
      "source": [
        "with open('data/day10_input.txt', 'r') as file:\n",
        "    data_real= file.read().strip()\n",
        "\n",
        "data_test = \"\"\"0123\n",
        "1234\n",
        "8765\n",
        "9876\"\"\"\n",
        "\n",
        "data_test_2 = \"\"\"89010123\n",
        "78121874\n",
        "87430965\n",
        "96549874\n",
        "45678903\n",
        "32019012\n",
        "01329801\n",
        "10456732\"\"\"\n",
        "\n",
        "data_test_3=\"\"\"...0...\n",
        "...1...\n",
        "...2...\n",
        "6543456\n",
        "7.....7\n",
        "8.....8\n",
        "9.....9\"\"\"\n",
        "\n",
        "data_test_4=\"\"\"..90..9\n",
        "...1.98\n",
        "...2..7\n",
        "6543456\n",
        "765.987\n",
        "876....\n",
        "987....\"\"\"\n",
        "\n",
        "data_test_5=\"\"\"10..9..\n",
        "2...8..\n",
        "3...7..\n",
        "4567654\n",
        "...8..3\n",
        "...9..2\n",
        ".....01\"\"\""
      ]
    },
    {
      "cell_type": "code",
      "source": [
        "map = [list(x) for x in data_real.split('\\n')]"
      ],
      "metadata": {
        "id": "MX1Qc6l2rTvc"
      },
      "execution_count": 55,
      "outputs": []
    },
    {
      "cell_type": "code",
      "source": [
        "def find_trail_simplified(map, row, number):\n",
        "    \"\"\"\n",
        "    Finds trails in a map starting from a given position.\n",
        "\n",
        "    Args:\n",
        "        map: A 2D list representing the map.\n",
        "        row: The starting row index.\n",
        "        number: The starting column index (represented as an integer in the code).\n",
        "\n",
        "    Returns:\n",
        "        A list of tuples representing the coordinates of the trail.\n",
        "    \"\"\"\n",
        "    trails = []\n",
        "    trails_2 = []\n",
        "    directions = [(1, 0), (-1, 0), (0, 1), (0, -1)]\n",
        "\n",
        "    def is_valid(r, c):\n",
        "        \"\"\"Checks if a cell is within the map boundaries.\"\"\"\n",
        "        return 0 <= r < len(map) and 0 <= c < len(map[0])\n",
        "\n",
        "    def explore_trail(start_row, start_col, target_val):\n",
        "        \"\"\"Recursively explores a trail starting from a given position.\"\"\"\n",
        "        if not is_valid(start_row, start_col) or map[start_row][start_col] != target_val:\n",
        "            return\n",
        "\n",
        "        # Mark the current cell as visited (to avoid infinite loops) if needed\n",
        "        # You might need to create a copy of the map to do this without side effects\n",
        "        # map[start_row][start_col] = 'x'\n",
        "\n",
        "        if target_val == '9':\n",
        "            trails.append((start_row, start_col)) if (start_row, start_col) not in trails else trails\n",
        "            trails_2.append((start_row, start_col))\n",
        "            return\n",
        "\n",
        "        for dr, dc in directions:\n",
        "            new_row, new_col = start_row + dr, start_col + dc\n",
        "            explore_trail(new_row, new_col, str(int(target_val) + 1))\n",
        "\n",
        "    explore_trail(row, number, '0')  # Start exploring from the given position\n",
        "    return trails,trails_2\n",
        "\n",
        "trailheads = {}\n",
        "trail_count = 0\n",
        "score = 0\n",
        "score_2 = 0\n",
        "row_count = 0\n",
        "for row in map:\n",
        "  col_count = 0\n",
        "  for number in row:\n",
        "    if number == '0':\n",
        "      trail_count += 1\n",
        "      trailheads[trail_count] = (find_trail_simplified(map, row_count, col_count))\n",
        "      score += len(trailheads[trail_count][0])\n",
        "      score_2 += len(trailheads[trail_count][1])\n",
        "    col_count += 1\n",
        "  row_count += 1\n",
        "print(score,score_2)"
      ],
      "metadata": {
        "colab": {
          "base_uri": "https://localhost:8080/"
        },
        "id": "DitG7ZI1uL6O",
        "outputId": "b01da100-6b49-4da9-ec4f-57eeb2a99338"
      },
      "execution_count": 56,
      "outputs": [
        {
          "output_type": "stream",
          "name": "stdout",
          "text": [
            "472 969\n"
          ]
        }
      ]
    },
    {
      "cell_type": "code",
      "source": [],
      "metadata": {
        "id": "Qx_hHWMhsHo_"
      },
      "execution_count": null,
      "outputs": []
    }
  ]
}