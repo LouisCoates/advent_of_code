{
  "nbformat": 4,
  "nbformat_minor": 0,
  "metadata": {
    "colab": {
      "provenance": [],
      "authorship_tag": "ABX9TyPsVwPGoJL9casUQp+crahC",
      "include_colab_link": true
    },
    "kernelspec": {
      "name": "python3",
      "display_name": "Python 3"
    },
    "language_info": {
      "name": "python"
    }
  },
  "cells": [
    {
      "cell_type": "markdown",
      "metadata": {
        "id": "view-in-github",
        "colab_type": "text"
      },
      "source": [
        "<a href=\"https://colab.research.google.com/github/LouisCoates/advent_of_code/blob/main/2024/day_2.ipynb\" target=\"_parent\"><img src=\"https://colab.research.google.com/assets/colab-badge.svg\" alt=\"Open In Colab\"/></a>"
      ]
    },
    {
      "cell_type": "code",
      "execution_count": 1,
      "metadata": {
        "id": "durlaYYm1Ho-",
        "colab": {
          "base_uri": "https://localhost:8080/"
        },
        "outputId": "bff24b7a-bf03-4bbd-e855-bd6d7aedd017"
      },
      "outputs": [
        {
          "output_type": "stream",
          "name": "stdout",
          "text": [
            "Data downloaded successfully and saved to data/day2_input.txt\n"
          ]
        }
      ],
      "source": [
        "import requests\n",
        "import os\n",
        "from google.colab import userdata\n",
        "cookie = userdata.get('AOC_SESSION_COOKIE')\n",
        "\n",
        "def download_data(url, session_cookie, output_path):\n",
        "    headers = {\n",
        "        'Cookie': f'session={session_cookie}'\n",
        "    }\n",
        "    response = requests.get(url, headers=headers)\n",
        "    if response.status_code == 200:\n",
        "        with open(output_path, 'w') as file:\n",
        "            file.write(response.text)\n",
        "        print(f\"Data downloaded successfully and saved to {output_path}\")\n",
        "    else:\n",
        "        print(f\"Failed to download data. Status code: {response.status_code}\")\n",
        "\n",
        "if __name__ == \"__main__\":\n",
        "    session_cookie = cookie  # Make sure to set this environment variable\n",
        "    os.makedirs('data', exist_ok=True)\n",
        "    if session_cookie:\n",
        "          url = \"https://adventofcode.com/2024/day/{}/input\".format(2)\n",
        "          output_path = \"data/day{}_input.txt\".format(2)\n",
        "          download_data(url, session_cookie, output_path)\n",
        "    else:\n",
        "        print(\"Session cookie not found. Please set the AOC_SESSION_COOKIE environment variable.\")"
      ]
    },
    {
      "cell_type": "code",
      "source": [
        "with open('data/day2_input.txt', 'r') as file:\n",
        "    string_data = file.read()\n",
        "\n",
        "reports = string_data.strip().split('\\n')"
      ],
      "metadata": {
        "id": "CaZdee7e2k-g"
      },
      "execution_count": 3,
      "outputs": []
    },
    {
      "cell_type": "markdown",
      "source": [
        "**Task 1**"
      ],
      "metadata": {
        "id": "oIlwsChi8Z3Y"
      }
    },
    {
      "cell_type": "code",
      "source": [
        "safety = []\n",
        "\n",
        "for report in reports:\n",
        "    report_int = [int(item) for item in report.split()]\n",
        "    if all(report_int[i] < report_int[i+1] for i in range(len(report_int) - 1)) and all(report_int[i+1] - report_int[i] <= 3 for i in range(len(report_int) - 1)):\n",
        "        safety.append('SAFE')\n",
        "    elif all(report_int[i] > report_int[i+1] for i in range(len(report_int) - 1)) and all(report_int[i] - report_int[i+1] <= 3 for i in range(len(report_int) - 1)):\n",
        "        safety.append('SAFE')\n",
        "    else:\n",
        "        safety.append('UNSAFE')\n",
        "\n",
        "\n",
        "print(safety.count('SAFE'))"
      ],
      "metadata": {
        "colab": {
          "base_uri": "https://localhost:8080/"
        },
        "id": "xWohsIHQ3fYb",
        "outputId": "34195bde-6ecf-4c5d-c5a5-f342c1be279f"
      },
      "execution_count": 4,
      "outputs": [
        {
          "output_type": "stream",
          "name": "stdout",
          "text": [
            "390\n"
          ]
        }
      ]
    },
    {
      "cell_type": "markdown",
      "source": [
        "**Task 2**"
      ],
      "metadata": {
        "id": "RyrlB00E-uJl"
      }
    },
    {
      "cell_type": "code",
      "source": [
        "safety_damped = []\n",
        "\n",
        "for report in reports:\n",
        "    report_int = [int(item) for item in report.split()]\n",
        "    if all(report_int[i] < report_int[i+1] for i in range(len(report_int) - 1)) and all(report_int[i+1] - report_int[i] <= 3 for i in range(len(report_int) - 1)):\n",
        "        safety_damped.append('SAFE')\n",
        "    elif all(report_int[i] > report_int[i+1] for i in range(len(report_int) - 1)) and all(report_int[i] - report_int[i+1] <= 3 for i in range(len(report_int) - 1)):\n",
        "        safety_damped.append('SAFE')\n",
        "    else:\n",
        "        for j in range(len(report_int)):\n",
        "          report_int_removed = report_int.copy()\n",
        "          report_int_removed.pop(j)\n",
        "          if all(report_int_removed[i] < report_int_removed[i+1] for i in range(len(report_int_removed) - 1)) and all(report_int_removed[i+1] - report_int_removed[i] <= 3 for i in range(len(report_int_removed) - 1)):\n",
        "            safety_damped.append('SAFE')\n",
        "            break\n",
        "          elif all(report_int_removed[i] > report_int_removed[i+1] for i in range(len(report_int_removed) - 1)) and all(report_int_removed[i] - report_int_removed[i+1] <= 3 for i in range(len(report_int_removed) - 1)):\n",
        "            safety_damped.append('SAFE')\n",
        "            break\n",
        "          elif j == len(report_int)-1:\n",
        "            safety_damped.append('UNSAFE')\n",
        "\n",
        "print(safety_damped.count('SAFE'))"
      ],
      "metadata": {
        "colab": {
          "base_uri": "https://localhost:8080/"
        },
        "id": "oxuduEed-wph",
        "outputId": "ce8ecb21-3746-429c-85dc-f94399c81de6"
      },
      "execution_count": 5,
      "outputs": [
        {
          "output_type": "stream",
          "name": "stdout",
          "text": [
            "439\n"
          ]
        }
      ]
    },
    {
      "cell_type": "code",
      "source": [],
      "metadata": {
        "id": "R4jRh0zYN7Y4"
      },
      "execution_count": null,
      "outputs": []
    }
  ]
}