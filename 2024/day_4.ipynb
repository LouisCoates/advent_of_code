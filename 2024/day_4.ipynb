{
  "nbformat": 4,
  "nbformat_minor": 0,
  "metadata": {
    "colab": {
      "provenance": [],
      "authorship_tag": "ABX9TyNPe2rSoyUxokEcjaZ7bLcR",
      "include_colab_link": true
    },
    "kernelspec": {
      "name": "python3",
      "display_name": "Python 3"
    },
    "language_info": {
      "name": "python"
    }
  },
  "cells": [
    {
      "cell_type": "markdown",
      "metadata": {
        "id": "view-in-github",
        "colab_type": "text"
      },
      "source": [
        "<a href=\"https://colab.research.google.com/github/LouisCoates/advent_of_code/blob/main/2024/day_4.ipynb\" target=\"_parent\"><img src=\"https://colab.research.google.com/assets/colab-badge.svg\" alt=\"Open In Colab\"/></a>"
      ]
    },
    {
      "cell_type": "code",
      "execution_count": 1,
      "metadata": {
        "id": "2XkJURMFCcCh",
        "colab": {
          "base_uri": "https://localhost:8080/"
        },
        "outputId": "ec1e4013-8fb0-4fe5-b0fe-7be89cfce648"
      },
      "outputs": [
        {
          "output_type": "stream",
          "name": "stdout",
          "text": [
            "Data downloaded successfully and saved to data/day4_input.txt\n"
          ]
        }
      ],
      "source": [
        "import requests\n",
        "import os\n",
        "from google.colab import userdata\n",
        "cookie = userdata.get('AOC_SESSION_COOKIE')\n",
        "\n",
        "def download_data(url, session_cookie, output_path):\n",
        "    headers = {\n",
        "        'Cookie': f'session={session_cookie}'\n",
        "    }\n",
        "    response = requests.get(url, headers=headers)\n",
        "    if response.status_code == 200:\n",
        "        with open(output_path, 'w') as file:\n",
        "            file.write(response.text)\n",
        "        print(f\"Data downloaded successfully and saved to {output_path}\")\n",
        "    else:\n",
        "        print(f\"Failed to download data. Status code: {response.status_code}\")\n",
        "\n",
        "if __name__ == \"__main__\":\n",
        "    session_cookie = cookie  # Make sure to set this environment variable\n",
        "    os.makedirs('data', exist_ok=True)\n",
        "    if session_cookie:\n",
        "          url = \"https://adventofcode.com/2024/day/{}/input\".format(4)\n",
        "          output_path = \"data/day{}_input.txt\".format(4)\n",
        "          download_data(url, session_cookie, output_path)\n",
        "    else:\n",
        "        print(\"Session cookie not found. Please set the AOC_SESSION_COOKIE environment variable.\")"
      ]
    },
    {
      "cell_type": "code",
      "source": [
        "with open('data/day4_input.txt', 'r') as file:\n",
        "    wordsearch = file.read()\n",
        "\n",
        "lines = wordsearch.split('\\n')"
      ],
      "metadata": {
        "id": "UtTQpZwmD51a"
      },
      "execution_count": 2,
      "outputs": []
    },
    {
      "cell_type": "code",
      "source": [
        "x_coords = []\n",
        "a_coords = []\n",
        "\n",
        "for i in range(140):\n",
        "  for j in range(140):\n",
        "    if lines[j][i] == 'X':\n",
        "      x_coords.append((i, j))\n",
        "    elif lines[j][i] == 'A':\n",
        "      a_coords.append((i, j))"
      ],
      "metadata": {
        "id": "29DHV2VgEIQZ"
      },
      "execution_count": 3,
      "outputs": []
    },
    {
      "cell_type": "code",
      "source": [
        "def left_right(lines,i,j,xmas):\n",
        "  if lines[j][i]+lines[j][i+1]+lines[j][i+2]+lines[j][i+3] == 'XMAS':\n",
        "    return xmas + 1\n",
        "  else:\n",
        "    return xmas\n",
        "\n",
        "def right_left(lines,i,j,xmas):\n",
        "  if lines[j][i]+lines[j][i-1]+lines[j][i-2]+lines[j][i-3] == 'XMAS':\n",
        "    return xmas + 1\n",
        "  else:\n",
        "    return xmas\n",
        "\n",
        "def down_up(lines,i,j,xmas):\n",
        "  if lines[j][i]+lines[j-1][i]+lines[j-2][i]+lines[j-3][i] == 'XMAS':\n",
        "    return xmas + 1\n",
        "  else:\n",
        "    return xmas\n",
        "\n",
        "def up_down(lines,i,j,xmas):\n",
        "  if lines[j][i]+lines[j+1][i]+lines[j+2][i]+lines[j+3][i] == 'XMAS':\n",
        "    return xmas + 1\n",
        "  else:\n",
        "    return xmas\n",
        "\n",
        "def up_right(lines,i,j,xmas):\n",
        "  if lines[j][i]+lines[j-1][i+1]+lines[j-2][i+2]+lines[j-3][i+3] == 'XMAS':\n",
        "    return xmas + 1\n",
        "  else:\n",
        "    return xmas\n",
        "\n",
        "def down_left(lines,i,j,xmas):\n",
        "  if lines[j][i]+lines[j+1][i-1]+lines[j+2][i-2]+lines[j+3][i-3] == 'XMAS':\n",
        "    return xmas + 1\n",
        "  else:\n",
        "    return xmas\n",
        "\n",
        "def up_left(lines,i,j,xmas):\n",
        "  if lines[j][i]+lines[j-1][i-1]+lines[j-2][i-2]+lines[j-3][i-3] == 'XMAS':\n",
        "    return xmas + 1\n",
        "  else:\n",
        "    return xmas\n",
        "\n",
        "def down_right(lines,i,j,xmas):\n",
        "  if lines[j][i]+lines[j+1][i+1]+lines[j+2][i+2]+lines[j+3][i+3] == 'XMAS':\n",
        "    return xmas + 1\n",
        "  else:\n",
        "    return xmas"
      ],
      "metadata": {
        "id": "RICHYP_07Lru"
      },
      "execution_count": 4,
      "outputs": []
    },
    {
      "cell_type": "code",
      "source": [
        "xmas=0\n",
        "\n",
        "for i,j in x_coords:\n",
        "  if i+3 < 140:\n",
        "    xmas = left_right(lines,i,j,xmas)\n",
        "  if i-3 >= 0:\n",
        "    xmas = right_left(lines,i,j,xmas)\n",
        "  if j+3 < 140:\n",
        "    xmas = up_down(lines,i,j,xmas)\n",
        "  if j-3 >= 0:\n",
        "    xmas = down_up(lines,i,j,xmas)\n",
        "  if i+3 < 140 and j+3 < 140:\n",
        "    xmas = down_right(lines,i,j,xmas)\n",
        "  if i-3 >= 0 and j-3 >= 0:\n",
        "    xmas = up_left(lines,i,j,xmas)\n",
        "  if i+3 < 140 and j-3 >= 0:\n",
        "    xmas = up_right(lines,i,j,xmas)\n",
        "  if i-3 >= 0 and j+3 < 140:\n",
        "    xmas = down_left(lines,i,j,xmas)\n",
        "\n",
        "\n",
        "print(xmas)\n"
      ],
      "metadata": {
        "colab": {
          "base_uri": "https://localhost:8080/"
        },
        "id": "hMmzZOLFFBBc",
        "outputId": "32e7a0ca-0a86-4840-d26e-ce1ce20a238c"
      },
      "execution_count": 5,
      "outputs": [
        {
          "output_type": "stream",
          "name": "stdout",
          "text": [
            "2633\n"
          ]
        }
      ]
    },
    {
      "cell_type": "code",
      "source": [
        "x_mas=0\n",
        "\n",
        "matchs = ['MSSM','SSMM','SMMS','MMSS']\n",
        "\n",
        "for i,j in a_coords:\n",
        "  if i < 139 and i > 0 and j < 139 and j > 0:\n",
        "    word = lines[j-1][i+1]+lines[j+1][i+1]+lines[j+1][i-1]+lines[j-1][i-1]\n",
        "    if word in matchs:\n",
        "      x_mas += 1\n",
        "\n",
        "print(x_mas)"
      ],
      "metadata": {
        "id": "ieTcsRceKmsJ",
        "colab": {
          "base_uri": "https://localhost:8080/"
        },
        "outputId": "899b4748-43fb-49a6-c20e-82bbddec96e2"
      },
      "execution_count": 6,
      "outputs": [
        {
          "output_type": "stream",
          "name": "stdout",
          "text": [
            "1936\n"
          ]
        }
      ]
    }
  ]
}