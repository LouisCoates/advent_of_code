{
  "nbformat": 4,
  "nbformat_minor": 0,
  "metadata": {
    "colab": {
      "provenance": [],
      "toc_visible": true,
      "authorship_tag": "ABX9TyOg4FbhwIiB6/bTaJY8FFwC",
      "include_colab_link": true
    },
    "kernelspec": {
      "name": "python3",
      "display_name": "Python 3"
    },
    "language_info": {
      "name": "python"
    }
  },
  "cells": [
    {
      "cell_type": "markdown",
      "metadata": {
        "id": "view-in-github",
        "colab_type": "text"
      },
      "source": [
        "<a href=\"https://colab.research.google.com/github/LouisCoates/advent_of_code/blob/main/2024/day_1.ipynb\" target=\"_parent\"><img src=\"https://colab.research.google.com/assets/colab-badge.svg\" alt=\"Open In Colab\"/></a>"
      ]
    },
    {
      "cell_type": "code",
      "execution_count": 5,
      "metadata": {
        "colab": {
          "base_uri": "https://localhost:8080/"
        },
        "id": "IzHPqrsSmHK8",
        "outputId": "d4d6cb03-51a3-4d49-d655-1e9842049b48"
      },
      "outputs": [
        {
          "output_type": "stream",
          "name": "stdout",
          "text": [
            "Data downloaded successfully and saved to data/day1_input.txt\n"
          ]
        }
      ],
      "source": [
        "import requests\n",
        "import os\n",
        "from google.colab import userdata\n",
        "cookie = userdata.get('AOC_SESSION_COOKIE')\n",
        "\n",
        "def download_data(url, session_cookie, output_path):\n",
        "    headers = {\n",
        "        'Cookie': f'session={session_cookie}'\n",
        "    }\n",
        "    response = requests.get(url, headers=headers)\n",
        "    if response.status_code == 200:\n",
        "        with open(output_path, 'w') as file:\n",
        "            file.write(response.text)\n",
        "        print(f\"Data downloaded successfully and saved to {output_path}\")\n",
        "    else:\n",
        "        print(f\"Failed to download data. Status code: {response.status_code}\")\n",
        "\n",
        "if __name__ == \"__main__\":\n",
        "    session_cookie = cookie  # Make sure to set this environment variable\n",
        "    os.makedirs('data', exist_ok=True)\n",
        "    if session_cookie:\n",
        "          url = \"https://adventofcode.com/2024/day/{}/input\".format(1)\n",
        "          output_path = \"data/day{}_input.txt\".format(1)\n",
        "          download_data(url, session_cookie, output_path)\n",
        "    else:\n",
        "        print(\"Session cookie not found. Please set the AOC_SESSION_COOKIE environment variable.\")\n",
        "\n"
      ]
    },
    {
      "cell_type": "code",
      "source": [
        "with open('data/day1_input.txt', 'r') as file:\n",
        "    string_data = file.read()\n",
        "\n",
        "lines = string_data.strip().split('\\n')\n",
        "\n",
        "# Create two empty lists to store the values\n",
        "list1 = []\n",
        "list2 = []\n",
        "\n",
        "# Iterate through the lines and extract the values\n",
        "for line in lines:\n",
        "    values = line.strip().split()  # Split each line by whitespace\n",
        "    list1.append(int(values[0]))  # Convert the first value to an integer and append to list1\n",
        "    list2.append(int(values[1]))  # Convert the second value to an integer and append to list2\n",
        "\n",
        "list1.sort()\n",
        "list2.sort()\n",
        "\n",
        "distances = []\n",
        "\n",
        "for i in range(len(list1)):\n",
        "    distances.append(abs(list1[i] - list2[i]))\n",
        "\n",
        "print('Task 1: ',sum(distances))\n",
        "\n",
        "similarity = []\n",
        "\n",
        "for value in list1:\n",
        "    similarity.append(list2.count(value) * value)\n",
        "\n",
        "print('Task 2: ',sum(similarity))"
      ],
      "metadata": {
        "colab": {
          "base_uri": "https://localhost:8080/"
        },
        "id": "lghk5NYSpGF9",
        "outputId": "137afa3e-0e4e-4a97-ec3c-8d1fca90d2be"
      },
      "execution_count": 6,
      "outputs": [
        {
          "output_type": "stream",
          "name": "stdout",
          "text": [
            "Task 1:  1830467\n",
            "Task 2:  26674158\n"
          ]
        }
      ]
    }
  ]
}