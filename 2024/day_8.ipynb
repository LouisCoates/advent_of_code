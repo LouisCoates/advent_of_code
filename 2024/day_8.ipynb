{
  "nbformat": 4,
  "nbformat_minor": 0,
  "metadata": {
    "colab": {
      "provenance": [],
      "authorship_tag": "ABX9TyNh7TOJGo0SS0/mJH+PpPdy",
      "include_colab_link": true
    },
    "kernelspec": {
      "name": "python3",
      "display_name": "Python 3"
    },
    "language_info": {
      "name": "python"
    }
  },
  "cells": [
    {
      "cell_type": "markdown",
      "metadata": {
        "id": "view-in-github",
        "colab_type": "text"
      },
      "source": [
        "<a href=\"https://colab.research.google.com/github/LouisCoates/advent_of_code/blob/main/2024/day_8.ipynb\" target=\"_parent\"><img src=\"https://colab.research.google.com/assets/colab-badge.svg\" alt=\"Open In Colab\"/></a>"
      ]
    },
    {
      "cell_type": "code",
      "execution_count": 2,
      "metadata": {
        "colab": {
          "base_uri": "https://localhost:8080/"
        },
        "id": "IzHPqrsSmHK8",
        "outputId": "34dfb7a1-925c-4b0d-9ac8-fc3ddbc80608"
      },
      "outputs": [
        {
          "output_type": "stream",
          "name": "stdout",
          "text": [
            "Data downloaded successfully and saved to data/day8_input.txt\n"
          ]
        }
      ],
      "source": [
        "import requests\n",
        "import os\n",
        "from google.colab import userdata\n",
        "cookie = userdata.get('AOC_SESSION_COOKIE')\n",
        "\n",
        "def download_data(url, session_cookie, output_path):\n",
        "    headers = {\n",
        "        'Cookie': f'session={session_cookie}'\n",
        "    }\n",
        "    response = requests.get(url, headers=headers)\n",
        "    if response.status_code == 200:\n",
        "        with open(output_path, 'w') as file:\n",
        "            file.write(response.text)\n",
        "        print(f\"Data downloaded successfully and saved to {output_path}\")\n",
        "    else:\n",
        "        print(f\"Failed to download data. Status code: {response.status_code}\")\n",
        "\n",
        "if __name__ == \"__main__\":\n",
        "    session_cookie = cookie  # Make sure to set this environment variable\n",
        "    os.makedirs('data', exist_ok=True)\n",
        "    if session_cookie:\n",
        "          url = \"https://adventofcode.com/2024/day/{}/input\".format(8)\n",
        "          output_path = \"data/day{}_input.txt\".format(8)\n",
        "          download_data(url, session_cookie, output_path)\n",
        "    else:\n",
        "        print(\"Session cookie not found. Please set the AOC_SESSION_COOKIE environment variable.\")\n",
        "\n",
        "with open('data/day8_input.txt', 'r') as file:\n",
        "    map_full = file.read()"
      ]
    },
    {
      "cell_type": "code",
      "source": [
        "map = map_full\n",
        "antennas = list(set(map))\n",
        "antennas.remove('.')\n",
        "antennas.remove('\\n')\n",
        "map = map.splitlines()\n",
        "\n",
        "def coord_math(first, second, step):\n",
        "  diff = (second[0]-first[0], second[1]-first[1])\n",
        "  return (second[0]+step*diff[0], second[1]+step*diff[1])"
      ],
      "metadata": {
        "id": "kpkoL2BWYp92"
      },
      "execution_count": 3,
      "outputs": []
    },
    {
      "cell_type": "code",
      "source": [
        "import itertools\n",
        "\n",
        "nodes = []\n",
        "for antenna in antennas:\n",
        "  coords = []\n",
        "  for i,j in itertools.product(range(len(map)), repeat=2):\n",
        "    if map[j][i] == antenna:\n",
        "      coords.append((i, j))\n",
        "  for one,two in list(itertools.combinations(coords, r=2)):\n",
        "    first = coord_math(one, two,1)\n",
        "    second = coord_math(two, one,1)\n",
        "    if all([first[0]>= 0,first[1]>= 0,first[0] < len(map),first[1] < len(map)]):\n",
        "      nodes.append(first)\n",
        "    if all([second[0]>= 0,second[1]>= 0,second[0] < len(map),second[1] < len(map)]):\n",
        "      nodes.append(second)\n",
        "\n",
        "print(len(set(nodes)))"
      ],
      "metadata": {
        "id": "0Kalo7tqYxJN",
        "colab": {
          "base_uri": "https://localhost:8080/"
        },
        "outputId": "a09e51a2-e0fc-438f-de07-0d18a3c51e04"
      },
      "execution_count": 4,
      "outputs": [
        {
          "output_type": "stream",
          "name": "stdout",
          "text": [
            "341\n"
          ]
        }
      ]
    },
    {
      "cell_type": "code",
      "source": [
        "import itertools\n",
        "\n",
        "nodes = []\n",
        "for antenna in antennas:\n",
        "  coords = []\n",
        "  for i,j in itertools.product(range(len(map)), repeat=2):\n",
        "    if map[j][i] == antenna:\n",
        "      coords.append((i, j))\n",
        "  for one,two in list(itertools.combinations(coords, r=2)):\n",
        "    nodes.append(one)\n",
        "    nodes.append(two)\n",
        "    first = coord_math(one, two,1)\n",
        "    second = coord_math(two, one,1)\n",
        "    loops = 2\n",
        "    while all([first[0]>= 0,first[1]>= 0,first[0] < len(map),first[1] < len(map)]):\n",
        "      nodes.append(first)\n",
        "      first = coord_math(one,two,loops)\n",
        "      loops += 1\n",
        "    loops = 2\n",
        "    while all([second[0]>= 0,second[1]>= 0,second[0] < len(map),second[1] < len(map)]):\n",
        "      nodes.append(second)\n",
        "      second = coord_math(two,one,loops)\n",
        "      loops += 1\n",
        "\n",
        "print(len(set(nodes)))"
      ],
      "metadata": {
        "colab": {
          "base_uri": "https://localhost:8080/"
        },
        "id": "LAXt9FIl4Pq0",
        "outputId": "b40e09f5-1075-4f94-ad49-f854f1a66716"
      },
      "execution_count": 5,
      "outputs": [
        {
          "output_type": "stream",
          "name": "stdout",
          "text": [
            "1134\n"
          ]
        }
      ]
    }
  ]
}