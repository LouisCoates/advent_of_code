{
  "cells": [
    {
      "cell_type": "markdown",
      "metadata": {
        "id": "view-in-github",
        "colab_type": "text"
      },
      "source": [
        "<a href=\"https://colab.research.google.com/github/LouisCoates/advent_of_code/blob/main/2024/day_7.ipynb\" target=\"_parent\"><img src=\"https://colab.research.google.com/assets/colab-badge.svg\" alt=\"Open In Colab\"/></a>"
      ]
    },
    {
      "cell_type": "code",
      "execution_count": 1,
      "metadata": {
        "colab": {
          "base_uri": "https://localhost:8080/"
        },
        "id": "IzHPqrsSmHK8",
        "outputId": "471cfe58-7463-49de-81a9-2ec506d593d0"
      },
      "outputs": [
        {
          "output_type": "stream",
          "name": "stdout",
          "text": [
            "Data downloaded successfully and saved to data/day7_input.txt\n"
          ]
        }
      ],
      "source": [
        "import requests\n",
        "import os\n",
        "from google.colab import userdata\n",
        "cookie = userdata.get('AOC_SESSION_COOKIE')\n",
        "\n",
        "def download_data(url, session_cookie, output_path):\n",
        "    headers = {\n",
        "        'Cookie': f'session={session_cookie}'\n",
        "    }\n",
        "    response = requests.get(url, headers=headers)\n",
        "    if response.status_code == 200:\n",
        "        with open(output_path, 'w') as file:\n",
        "            file.write(response.text)\n",
        "        print(f\"Data downloaded successfully and saved to {output_path}\")\n",
        "    else:\n",
        "        print(f\"Failed to download data. Status code: {response.status_code}\")\n",
        "\n",
        "if __name__ == \"__main__\":\n",
        "    session_cookie = cookie  # Make sure to set this environment variable\n",
        "    os.makedirs('data', exist_ok=True)\n",
        "    if session_cookie:\n",
        "          url = \"https://adventofcode.com/2024/day/{}/input\".format(7)\n",
        "          output_path = \"data/day{}_input.txt\".format(7)\n",
        "          download_data(url, session_cookie, output_path)\n",
        "    else:\n",
        "        print(\"Session cookie not found. Please set the AOC_SESSION_COOKIE environment variable.\")\n",
        "\n",
        "with open('data/day7_input.txt', 'r') as file:\n",
        "    calcs_input = file.read()"
      ]
    },
    {
      "cell_type": "code",
      "execution_count": 3,
      "metadata": {
        "id": "t9XByU6mEpKZ"
      },
      "outputs": [],
      "source": [
        "import itertools\n",
        "from itertools import product\n",
        "from more_itertools import distinct_permutations as idp\n",
        "from IPython.display import HTML, display\n",
        "\n",
        "calcs = calcs_input\n",
        "\n",
        "calcs = [line.split(':') for line in calcs.split(\"\\n\")[:-1]]\n",
        "for calc in calcs:\n",
        "    calc[1] = [int(num) for num in calc[1].split()]\n",
        "\n",
        "def check_calc(calc,opers):\n",
        "  for i in range(len(calc[1])):\n",
        "    for perm in list(itertools.product(opers, repeat=(len(calc[1])-1))):\n",
        "      value = calc[1][0]\n",
        "      for i in range(1,len(calc[1])):\n",
        "        if perm[i-1] == 'plus':\n",
        "          value += calc[1][i]\n",
        "        if perm[i-1] == 'mult':\n",
        "          value *= calc[1][i]\n",
        "        if perm[i-1] == 'concat':\n",
        "          value = int(str(value)+str(calc[1][i]))\n",
        "      if value == int(calc[0]):\n",
        "        return value\n",
        "  return 0"
      ]
    },
    {
      "cell_type": "code",
      "execution_count": 4,
      "metadata": {
        "colab": {
          "base_uri": "https://localhost:8080/"
        },
        "id": "SCD4wBbmE2D-",
        "outputId": "5914add1-bc79-4512-8801-54b62eb6e60f"
      },
      "outputs": [
        {
          "output_type": "stream",
          "name": "stdout",
          "text": [
            "2654749936343 124060392153684\n"
          ]
        }
      ],
      "source": [
        "part_1 = 0\n",
        "part_2 = 0\n",
        "for calc in calcs:\n",
        "  part_1 += check_calc(calc,['plus','mult'])\n",
        "  part_2 += check_calc(calc,['plus','mult','concat'])\n",
        "\n",
        "print(part_1,part_2)\n",
        "\n"
      ]
    },
    {
      "cell_type": "code",
      "source": [],
      "metadata": {
        "id": "6shSfoLpRJUL"
      },
      "execution_count": null,
      "outputs": []
    }
  ],
  "metadata": {
    "colab": {
      "provenance": [],
      "authorship_tag": "ABX9TyOkzAnhyevPqyF3wxzKUUTM",
      "include_colab_link": true
    },
    "kernelspec": {
      "display_name": "Python 3",
      "name": "python3"
    },
    "language_info": {
      "name": "python"
    }
  },
  "nbformat": 4,
  "nbformat_minor": 0
}