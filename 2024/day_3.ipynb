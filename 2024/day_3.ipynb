{
  "nbformat": 4,
  "nbformat_minor": 0,
  "metadata": {
    "colab": {
      "provenance": [],
      "authorship_tag": "ABX9TyPko87fFWhIqNmxpmNIN3DA",
      "include_colab_link": true
    },
    "kernelspec": {
      "name": "python3",
      "display_name": "Python 3"
    },
    "language_info": {
      "name": "python"
    }
  },
  "cells": [
    {
      "cell_type": "markdown",
      "metadata": {
        "id": "view-in-github",
        "colab_type": "text"
      },
      "source": [
        "<a href=\"https://colab.research.google.com/github/LouisCoates/advent_of_code/blob/main/2024/day_3.ipynb\" target=\"_parent\"><img src=\"https://colab.research.google.com/assets/colab-badge.svg\" alt=\"Open In Colab\"/></a>"
      ]
    },
    {
      "cell_type": "code",
      "execution_count": 1,
      "metadata": {
        "id": "x__apXg7f-m5",
        "colab": {
          "base_uri": "https://localhost:8080/"
        },
        "outputId": "838e7d93-298b-4274-d2d7-c22acc877e95"
      },
      "outputs": [
        {
          "output_type": "stream",
          "name": "stdout",
          "text": [
            "Data downloaded successfully and saved to data/day3_input.txt\n"
          ]
        }
      ],
      "source": [
        "import requests\n",
        "import os\n",
        "from google.colab import userdata\n",
        "cookie = userdata.get('AOC_SESSION_COOKIE')\n",
        "\n",
        "def download_data(url, session_cookie, output_path):\n",
        "    headers = {\n",
        "        'Cookie': f'session={session_cookie}'\n",
        "    }\n",
        "    response = requests.get(url, headers=headers)\n",
        "    if response.status_code == 200:\n",
        "        with open(output_path, 'w') as file:\n",
        "            file.write(response.text)\n",
        "        print(f\"Data downloaded successfully and saved to {output_path}\")\n",
        "    else:\n",
        "        print(f\"Failed to download data. Status code: {response.status_code}\")\n",
        "\n",
        "if __name__ == \"__main__\":\n",
        "    session_cookie = cookie  # Make sure to set this environment variable\n",
        "    os.makedirs('data', exist_ok=True)\n",
        "    if session_cookie:\n",
        "          url = \"https://adventofcode.com/2024/day/{}/input\".format(3)\n",
        "          output_path = \"data/day{}_input.txt\".format(3)\n",
        "          download_data(url, session_cookie, output_path)\n",
        "    else:\n",
        "        print(\"Session cookie not found. Please set the AOC_SESSION_COOKIE environment variable.\")"
      ]
    },
    {
      "cell_type": "code",
      "source": [
        "import re\n",
        "\n",
        "with open('data/day3_input.txt', 'r') as file:\n",
        "    input_string = file.read()\n",
        "\n",
        "total1 = total2 = 0\n",
        "enabled = True\n",
        "\n",
        "for a, b, do, dont in re.findall(r\"mul\\((\\d+),(\\d+)\\)|(do\\(\\))|(don't\\(\\))\", input_string):\n",
        "    if do or dont:\n",
        "        enabled = bool(do)\n",
        "    else:\n",
        "        x = int(a) * int(b)\n",
        "        total1 += x\n",
        "        total2 += x * enabled\n",
        "\n",
        "print(total1, total2)"
      ],
      "metadata": {
        "colab": {
          "base_uri": "https://localhost:8080/"
        },
        "id": "GGB0SahhML7e",
        "outputId": "2fb4d55c-16af-4a25-955f-3f54a8f80938"
      },
      "execution_count": 2,
      "outputs": [
        {
          "output_type": "stream",
          "name": "stdout",
          "text": [
            "179834255 80570939\n"
          ]
        }
      ]
    }
  ]
}